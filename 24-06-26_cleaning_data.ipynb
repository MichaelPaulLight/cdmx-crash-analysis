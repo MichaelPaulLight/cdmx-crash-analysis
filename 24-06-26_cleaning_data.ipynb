{
 "cells": [
  {
   "cell_type": "code",
   "execution_count": 4,
   "metadata": {},
   "outputs": [
    {
     "name": "stderr",
     "output_type": "stream",
     "text": [
      "/var/folders/29/ysfdqqh96xd2zvnqnqd_8fm80000gn/T/ipykernel_27900/3711100507.py:36: DtypeWarning: Columns (0) have mixed types. Specify dtype option on import or set low_memory=False.\n",
      "  df = pd.read_csv(file_path, encoding='ISO-8859-1', names=headers, header=None, index_col=False)\n",
      "/var/folders/29/ysfdqqh96xd2zvnqnqd_8fm80000gn/T/ipykernel_27900/3711100507.py:36: DtypeWarning: Columns (9) have mixed types. Specify dtype option on import or set low_memory=False.\n",
      "  df = pd.read_csv(file_path, encoding='ISO-8859-1', names=headers, header=None, index_col=False)\n",
      "/var/folders/29/ysfdqqh96xd2zvnqnqd_8fm80000gn/T/ipykernel_27900/3711100507.py:36: DtypeWarning: Columns (6) have mixed types. Specify dtype option on import or set low_memory=False.\n",
      "  df = pd.read_csv(file_path, encoding='ISO-8859-1', names=headers, header=None, index_col=False)\n",
      "/var/folders/29/ysfdqqh96xd2zvnqnqd_8fm80000gn/T/ipykernel_27900/3711100507.py:36: DtypeWarning: Columns (0,21) have mixed types. Specify dtype option on import or set low_memory=False.\n",
      "  df = pd.read_csv(file_path, encoding='ISO-8859-1', names=headers, header=None, index_col=False)\n",
      "/var/folders/29/ysfdqqh96xd2zvnqnqd_8fm80000gn/T/ipykernel_27900/3711100507.py:36: DtypeWarning: Columns (0,21) have mixed types. Specify dtype option on import or set low_memory=False.\n",
      "  df = pd.read_csv(file_path, encoding='ISO-8859-1', names=headers, header=None, index_col=False)\n",
      "/var/folders/29/ysfdqqh96xd2zvnqnqd_8fm80000gn/T/ipykernel_27900/3711100507.py:36: DtypeWarning: Columns (0) have mixed types. Specify dtype option on import or set low_memory=False.\n",
      "  df = pd.read_csv(file_path, encoding='ISO-8859-1', names=headers, header=None, index_col=False)\n",
      "/var/folders/29/ysfdqqh96xd2zvnqnqd_8fm80000gn/T/ipykernel_27900/3711100507.py:36: DtypeWarning: Columns (0) have mixed types. Specify dtype option on import or set low_memory=False.\n",
      "  df = pd.read_csv(file_path, encoding='ISO-8859-1', names=headers, header=None, index_col=False)\n",
      "/var/folders/29/ysfdqqh96xd2zvnqnqd_8fm80000gn/T/ipykernel_27900/3711100507.py:36: DtypeWarning: Columns (0) have mixed types. Specify dtype option on import or set low_memory=False.\n",
      "  df = pd.read_csv(file_path, encoding='ISO-8859-1', names=headers, header=None, index_col=False)\n",
      "/var/folders/29/ysfdqqh96xd2zvnqnqd_8fm80000gn/T/ipykernel_27900/3711100507.py:36: DtypeWarning: Columns (0) have mixed types. Specify dtype option on import or set low_memory=False.\n",
      "  df = pd.read_csv(file_path, encoding='ISO-8859-1', names=headers, header=None, index_col=False)\n"
     ]
    }
   ],
   "source": [
    "import pandas as pd\n",
    "import os\n",
    "\n",
    "# Define the base directory\n",
    "# base_dir = \"/Users/michaellight/Desktop/py_projects/vital_strategies/cdmx_traffic_dashboard/accident_data\"\n",
    "base_dir = \"./accident_data\"\n",
    "\n",
    "# Define the years that do not have headers\n",
    "years_without_headers = range(2020, 2024)\n",
    "\n",
    "# Initialize an empty list to hold the DataFrames\n",
    "dfs = []\n",
    "\n",
    "# Read the headers from the Excel file\n",
    "# headers_df = pd.read_excel('/Users/michaellight/Desktop/py_projects/vital_strategies/cdmx_traffic_dashboard/accident_data/diccionario-percances-viales-axa-1.xlsx', usecols=[0], skiprows=0)\n",
    "headers_df = pd.read_excel('./accident_data/diccionario-percances-viales-axa-1.xlsx', usecols=[0], skiprows=0)\n",
    "headers = headers_df.iloc[:, 0].tolist()\n",
    "\n",
    "# Insert \"Día Numero\" at the next index\n",
    "headers.insert(headers.index(\"Mes Reporte\") + 1, \"Día Numero\")\n",
    "\n",
    "# Loop over the years\n",
    "for year in years_without_headers:\n",
    "    # Get the directory for this year\n",
    "    dir_path = os.path.join(base_dir, str(year))\n",
    "    \n",
    "    # Get a list of all the CSV files in this directory\n",
    "    csv_files = [f for f in os.listdir(dir_path) if f.endswith('.csv')]\n",
    "    \n",
    "    # Loop over the CSV files\n",
    "    for csv_file in csv_files:\n",
    "        # Define the file path\n",
    "        file_path = os.path.join(dir_path, csv_file)\n",
    "        \n",
    "        # Read the CSV file into a DataFrame using the headers\n",
    "        df = pd.read_csv(file_path, encoding='ISO-8859-1', names=headers, header=None, index_col=False)       \n",
    "\n",
    "        # Append the DataFrame to the list\n",
    "        dfs.append(df)\n",
    "\n",
    "# Concatenate all the DataFrames in the list\n",
    "df_without_headers = pd.concat(dfs, ignore_index=True)"
   ]
  },
  {
   "cell_type": "code",
   "execution_count": 5,
   "metadata": {},
   "outputs": [
    {
     "name": "stderr",
     "output_type": "stream",
     "text": [
      "/var/folders/29/ysfdqqh96xd2zvnqnqd_8fm80000gn/T/ipykernel_27900/3208485971.py:13: DtypeWarning: Columns (0,1,2,3,9) have mixed types. Specify dtype option on import or set low_memory=False.\n",
      "  df = pd.read_csv(file_path, encoding='ISO-8859-1')\n",
      "/var/folders/29/ysfdqqh96xd2zvnqnqd_8fm80000gn/T/ipykernel_27900/3208485971.py:13: DtypeWarning: Columns (0) have mixed types. Specify dtype option on import or set low_memory=False.\n",
      "  df = pd.read_csv(file_path, encoding='ISO-8859-1')\n"
     ]
    }
   ],
   "source": [
    "# Define the years that have headers\n",
    "years_with_headers = range(2015, 2020)\n",
    "\n",
    "# Initialize an empty list to hold the DataFrames\n",
    "dfs = []\n",
    "\n",
    "# Loop over the years\n",
    "for year in years_with_headers:\n",
    "    # Define the file path\n",
    "    file_path = os.path.join(base_dir, str(year), f\"incidentes_viales_{year}_axa.csv\")\n",
    "    \n",
    "    # Read the CSV file into a DataFrame\n",
    "    df = pd.read_csv(file_path, encoding='ISO-8859-1')\n",
    "    \n",
    "    # Append the DataFrame to the list\n",
    "    dfs.append(df)"
   ]
  },
  {
   "cell_type": "code",
   "execution_count": 8,
   "metadata": {},
   "outputs": [],
   "source": [
    "from unidecode import unidecode\n",
    "import numpy as np\n",
    "\n",
    "dfs = [df_without_headers] + dfs\n",
    "\n",
    "for df in dfs:\n",
    "    df.columns = [col.lower().strip() for col in df.columns]\n",
    "    \n",
    "for i in range(len(dfs)):\n",
    "    # Change column names to snake case and remove accents\n",
    "    dfs[i].columns = [unidecode(col.lower().replace(' ', '_')) for col in dfs[i].columns]\n",
    "    \n",
    "for i in range(len(dfs)):\n",
    "    # Remove \"_reporte\" from column names\n",
    "    dfs[i].columns = dfs[i].columns.str.replace('_reporte', '')\n",
    "    \n",
    "for df in dfs:\n",
    "    df.rename(columns={'daa_numero': 'dia_numero'}, inplace=True)\n",
    "    \n",
    "for df in dfs:\n",
    "    df.rename(columns={'aao': 'ano'}, inplace=True)\n",
    "    \n",
    "for df in dfs:\n",
    "    df.rename(columns={'nivel_daao_vehiculo': 'nivel_dano_vehiculo'}, inplace=True)\n",
    "\n",
    "for df in dfs:\n",
    "    df.rename(columns={'causa_siniestro': 'tipo_de_percance'}, inplace=True)\n",
    "    \n",
    "for df in dfs:\n",
    "    df.rename(columns={'punto_de_impacto': 'punto_impacto'}, inplace=True)  \n",
    "    \n",
    "for df in dfs:\n",
    "    df.rename(columns={'ciudad': 'ciudad_municipio'}, inplace=True)\n",
    "    \n",
    "for df in dfs:\n",
    "    df.rename(columns={'lesionados': 'total_lesionados'}, inplace=True)\n",
    "    \n",
    "for df in dfs:\n",
    "    df.rename(columns={'relacion_lesionados': 'rol_lesionado'}, inplace=True)    \n",
    "    \n",
    "for df in dfs:\n",
    "    df.rename(columns={'nivel_lesionados':'nivel_lesion'}, inplace=True)    \n",
    "\n",
    "for df in dfs:\n",
    "    df.rename(columns={'obra_civil': 'dano_obra_civil'}, inplace=True)    \n",
    "\n",
    "for df in dfs:\n",
    "    df.rename(columns={'fuga': 'tercero_fuga'}, inplace=True)  \n",
    "    \n",
    "for df in dfs:\n",
    "    df.rename(columns={'seguro': 'aseguradora'}, inplace=True)   \n",
    "    \n",
    "for df in dfs:\n",
    "    df.rename(columns={'taxi': 'servicio_taxi'}, inplace=True)\n",
    "    \n",
    "for i in range(len(dfs)):\n",
    "    if 'rol_lesionado' not in dfs[i].columns:\n",
    "        dfs[i] = dfs[i].assign(rol_lesionado=np.nan)\n",
    "    if 'nivel_lesio' not in dfs[i].columns:\n",
    "        dfs[i] = dfs[i].assign(nivel_lesion=np.nan)  \n",
    "\n",
    "# Get the common columns\n",
    "common_columns = set.intersection(*[set(df.columns) for df in dfs])\n",
    "\n",
    "common_columns = list(common_columns)\n",
    "\n",
    "# Concatenate all the dataframes, keeping only the common columns\n",
    "df_final = pd.concat([df[common_columns] for df in dfs], ignore_index=True)"
   ]
  },
  {
   "cell_type": "code",
   "execution_count": 9,
   "metadata": {},
   "outputs": [
    {
     "name": "stdout",
     "output_type": "stream",
     "text": [
      "No rows were dropped during cleaning\n"
     ]
    }
   ],
   "source": [
    "# a bit of data validation\n",
    "\n",
    "total_rows = sum(df.shape[0] for df in dfs)\n",
    "\n",
    "if total_rows == df_final.shape[0]:\n",
    "    print(\"No rows were dropped during cleaning\")\n",
    "else:\n",
    "    \"Rows were dropped during cleaning\""
   ]
  },
  {
   "cell_type": "code",
   "execution_count": 10,
   "metadata": {},
   "outputs": [],
   "source": [
    "df_final = df_final.drop_duplicates()"
   ]
  },
  {
   "cell_type": "code",
   "execution_count": 11,
   "metadata": {},
   "outputs": [],
   "source": [
    "# Convert to lower case and strip whitespace\n",
    "headers = [col.lower().strip() for col in headers]\n",
    "\n",
    "# Change to snake case and remove accents\n",
    "headers = [unidecode(col.replace(' ', '_')) for col in headers]\n",
    "\n",
    "# Remove \"_reporte\" from column names\n",
    "headers = [col.replace('_reporte', '') for col in headers]"
   ]
  },
  {
   "cell_type": "code",
   "execution_count": 12,
   "metadata": {},
   "outputs": [],
   "source": [
    "df_final = df_final[headers]"
   ]
  },
  {
   "cell_type": "code",
   "execution_count": 13,
   "metadata": {},
   "outputs": [
    {
     "name": "stdout",
     "output_type": "stream",
     "text": [
      "Total number of values replaced: 63606122\n"
     ]
    }
   ],
   "source": [
    "# Count the total number of \"\\N\" values in df_final\n",
    "count_before = (df_final == \"\\\\N\").sum().sum()\n",
    "\n",
    "# Replace all \"\\N\" with NaN\n",
    "df_final = df_final.replace(\"\\\\N\", np.nan)\n",
    "\n",
    "# Count the total number of NaN values in df_final\n",
    "count_after = df_final.isnull().sum().sum()\n",
    "\n",
    "# Print the total number of values that were replaced\n",
    "print(\"Total number of values replaced:\", count_after - count_before)"
   ]
  },
  {
   "cell_type": "code",
   "execution_count": 14,
   "metadata": {},
   "outputs": [
    {
     "name": "stdout",
     "output_type": "stream",
     "text": [
      "Total number of values coerced to NaN: 1885\n"
     ]
    }
   ],
   "source": [
    "# List of columns to convert\n",
    "cols_to_convert = pd.concat([df_final.loc[:, 'siniestro':'codigo_postal'], df_final[['modelo', 'ano', 'dia_numero', 'hora', 'total_lesionados', 'edad_lesionado']], df_final.loc[:, 'ambulancia':'animal']], axis=1).columns\n",
    "\n",
    "# Initialize counter for total number of values that will be coerced to NaN\n",
    "total_coerced = 0\n",
    "\n",
    "for col in cols_to_convert:\n",
    "    try:\n",
    "        # Count the number of values that will be coerced to NaN\n",
    "        coerce_mask = pd.to_numeric(df_final[col], errors='coerce').isna() & df_final[col].notna()\n",
    "        total_coerced += coerce_mask.sum()\n",
    "\n",
    "        # Convert the column to numeric, coercing non-numeric values to NaN\n",
    "        df_final[col] = pd.to_numeric(df_final[col], errors='coerce')\n",
    "\n",
    "    except Exception as e:\n",
    "        print(f\"Error converting column {col}: {e}\")\n",
    "\n",
    "# Print the total number of values that were coerced to NaN\n",
    "print(\"Total number of values coerced to NaN:\", total_coerced)"
   ]
  },
  {
   "cell_type": "code",
   "execution_count": 15,
   "metadata": {},
   "outputs": [],
   "source": [
    "# List of columns to convert to string\n",
    "cols_to_convert_to_str = ['calle', 'color', 'nivel_dano_vehiculo', 'punto_impacto', 'mes', 'dia', 'estado', 'ciudad_municipio', 'rol_lesionado', 'genero_lesionado', 'hospitalizado', 'fallecido']\n",
    "\n",
    "# Convert each column to string\n",
    "for col in cols_to_convert_to_str:\n",
    "    df_final[col] = df_final[col].astype('string', errors='ignore')"
   ]
  },
  {
   "cell_type": "code",
   "execution_count": 17,
   "metadata": {},
   "outputs": [],
   "source": [
    "#switching to polars to take advantage of expressions\n",
    "\n",
    "import polars as pl\n",
    "\n",
    "# Convert all columns to appropriate data types in pandas before converting to Polars\n",
    "for col in df_final.columns:\n",
    "    if df_final[col].dtype == 'object':\n",
    "        try:\n",
    "            df_final[col] = df_final[col].astype('string')\n",
    "        except ValueError:\n",
    "            pass\n",
    "\n",
    "# Now convert the pandas DataFrame to a Polars DataFrame\n",
    "pl_df = pl.from_pandas(df_final)"
   ]
  },
  {
   "cell_type": "code",
   "execution_count": 18,
   "metadata": {},
   "outputs": [],
   "source": [
    "# List of all months in Spanish\n",
    "months_spanish = ['enero', 'febrero', 'marzo', 'abril', 'mayo', 'junio', 'julio', 'agosto', 'septiembre', 'octubre', 'noviembre', 'diciembre']\n",
    "\n",
    "# List of all months in English\n",
    "months_english = ['January', 'February', 'March', 'April', 'May', 'June', 'July', 'August', 'September', 'October', 'November', 'December']\n",
    "\n",
    "pl_df = pl_df.with_columns(\n",
    "    pl.col(\"mes\")\n",
    "    .str.to_lowercase()\n",
    "    .str.replace_many(\n",
    "    months_spanish,\n",
    "    months_english    \n",
    "    )  \n",
    "    )"
   ]
  },
  {
   "cell_type": "code",
   "execution_count": 19,
   "metadata": {},
   "outputs": [],
   "source": [
    "pl_df = pl_df.with_columns(\n",
    "    pl.col(\"nivel_dano_vehiculo\")\n",
    "    .str.replace_many(\n",
    "    [\"Bajo\", \"Alto\", \"Medio\", \"Sin \"],\n",
    "    [\"Low\", \"High\", \"Medium\", \"No damage\"]    \n",
    "    )\n",
    "    .str.replace(\"No damage.*\", \"No damage\")\n",
    ")  "
   ]
  },
  {
   "cell_type": "code",
   "execution_count": 20,
   "metadata": {},
   "outputs": [],
   "source": [
    "pl_df = pl_df.with_columns(\n",
    "    pl.col(\"nivel_dano_vehiculo\")\n",
    "    .str.replace_many(\n",
    "    [\"Low\", \"High\", \"Medium\", \"No damage\"],\n",
    "    [\"2\", \"4\", \"3\", \"1\"]    \n",
    "    )\n",
    "    .str.replace(\"1.*\", \"1\")\n",
    "     .cast(pl.Int64, strict=False)\n",
    ")  "
   ]
  },
  {
   "cell_type": "code",
   "execution_count": 22,
   "metadata": {},
   "outputs": [],
   "source": [
    "numbers = [str(i) for i in range(1, 13)]\n",
    "\n",
    "pl_df = pl_df.with_columns(\n",
    "    pl.col(\"mes\")\n",
    "    .str.replace_many(\n",
    "    months_english,\n",
    "    numbers\n",
    "    )\n",
    "    .cast(pl.Int64)\n",
    ")"
   ]
  },
  {
   "cell_type": "code",
   "execution_count": 23,
   "metadata": {},
   "outputs": [
    {
     "data": {
      "text/html": [
       "<div><style>\n",
       ".dataframe > thead > tr,\n",
       ".dataframe > tbody > tr {\n",
       "  text-align: right;\n",
       "  white-space: pre-wrap;\n",
       "}\n",
       "</style>\n",
       "<small>shape: (5, 44)</small><table border=\"1\" class=\"dataframe\"><thead><tr><th>siniestro</th><th>latitud</th><th>longitud</th><th>codigo_postal</th><th>calle</th><th>colonia</th><th>tipo_de_percance</th><th>tipo_vehiculo</th><th>color</th><th>modelo</th><th>nivel_dano_vehiculo</th><th>punto_impacto</th><th>ano</th><th>mes</th><th>dia_numero</th><th>dia</th><th>hora</th><th>estado</th><th>ciudad_municipio</th><th>total_lesionados</th><th>rol_lesionado</th><th>edad_lesionado</th><th>genero_lesionado</th><th>nivel_lesion</th><th>hospitalizado</th><th>fallecido</th><th>ambulancia</th><th>arbol</th><th>piedra</th><th>dormido</th><th>grua</th><th>dano_obra_civil</th><th>pavimento_mojado</th><th>explosion_llanta</th><th>volcadura</th><th>perdida_total</th><th>conductor_distraido</th><th>tercero_fuga</th><th>alcohol</th><th>motocicleta</th><th>bicicleta</th><th>aseguradora</th><th>servicio_taxi</th><th>animal</th></tr><tr><td>f64</td><td>f64</td><td>f64</td><td>f64</td><td>str</td><td>str</td><td>str</td><td>str</td><td>str</td><td>f64</td><td>i64</td><td>str</td><td>i64</td><td>i64</td><td>i64</td><td>str</td><td>i64</td><td>str</td><td>str</td><td>i64</td><td>str</td><td>f64</td><td>str</td><td>f64</td><td>str</td><td>str</td><td>f64</td><td>f64</td><td>f64</td><td>f64</td><td>f64</td><td>f64</td><td>f64</td><td>f64</td><td>f64</td><td>f64</td><td>f64</td><td>f64</td><td>f64</td><td>f64</td><td>f64</td><td>f64</td><td>f64</td><td>f64</td></tr></thead><tbody><tr><td>5.948953e6</td><td>17.536272</td><td>-99.496947</td><td>39095.0</td><td>&quot;Av. Lazaro Car…</td><td>&quot;COLONIA LA CIN…</td><td>&quot;COLISION Y/O V…</td><td>&quot;Auto&quot;</td><td>&quot;ROJO&quot;</td><td>2007.0</td><td>2</td><td>&quot;Trasero&quot;</td><td>2020</td><td>10</td><td>1</td><td>&quot;JUEVES&quot;</td><td>12</td><td>&quot;GUERRERO&quot;</td><td>&quot;CHILPANCINGO D…</td><td>0</td><td>null</td><td>0.0</td><td>null</td><td>null</td><td>&quot;NO&quot;</td><td>null</td><td>null</td><td>null</td><td>null</td><td>null</td><td>null</td><td>null</td><td>null</td><td>null</td><td>null</td><td>null</td><td>null</td><td>null</td><td>null</td><td>null</td><td>null</td><td>null</td><td>null</td><td>null</td></tr><tr><td>5.947275e6</td><td>16.862052</td><td>-99.896002</td><td>39300.0</td><td>&quot;Bernal DÃ­az d…</td><td>&quot;PROGRESO&quot;</td><td>&quot;COLISION Y/O V…</td><td>&quot;Auto&quot;</td><td>&quot;BLANCO&quot;</td><td>2007.0</td><td>1</td><td>&quot;Cofre&quot;</td><td>2020</td><td>10</td><td>1</td><td>&quot;JUEVES&quot;</td><td>16</td><td>&quot;GUERRERO&quot;</td><td>&quot;ACAPULCO DE JU…</td><td>0</td><td>null</td><td>0.0</td><td>null</td><td>null</td><td>&quot;NO&quot;</td><td>null</td><td>null</td><td>null</td><td>null</td><td>null</td><td>null</td><td>null</td><td>null</td><td>null</td><td>null</td><td>null</td><td>null</td><td>null</td><td>null</td><td>null</td><td>null</td><td>null</td><td>null</td><td>null</td></tr><tr><td>5.941145e6</td><td>16.844717</td><td>-99.848868</td><td>39300.0</td><td>&quot;Costera Miguel…</td><td>&quot;col icacos&quot;</td><td>&quot;COLISION Y/O V…</td><td>&quot;Auto&quot;</td><td>&quot;blanco&quot;</td><td>2012.0</td><td>null</td><td>null</td><td>2020</td><td>10</td><td>1</td><td>&quot;JUEVES&quot;</td><td>18</td><td>&quot;GUERRERO&quot;</td><td>&quot;ACAPULCO DE JU…</td><td>0</td><td>null</td><td>0.0</td><td>null</td><td>null</td><td>&quot;NO&quot;</td><td>null</td><td>null</td><td>null</td><td>null</td><td>null</td><td>null</td><td>null</td><td>null</td><td>null</td><td>null</td><td>null</td><td>null</td><td>null</td><td>null</td><td>null</td><td>null</td><td>null</td><td>null</td><td>null</td></tr><tr><td>5.949668e6</td><td>17.517569</td><td>-99.476248</td><td>39095.0</td><td>&quot;Calle Eduardo …</td><td>&quot;Villas del Par…</td><td>&quot;COLISION Y/O V…</td><td>&quot;Auto&quot;</td><td>&quot;NEGRO&quot;</td><td>2005.0</td><td>2</td><td>&quot;Frontal&quot;</td><td>2020</td><td>10</td><td>2</td><td>&quot;VIERNES&quot;</td><td>15</td><td>&quot;GUERRERO&quot;</td><td>&quot;CHILPANCINGO D…</td><td>0</td><td>null</td><td>0.0</td><td>null</td><td>null</td><td>&quot;NO&quot;</td><td>null</td><td>null</td><td>null</td><td>null</td><td>null</td><td>null</td><td>null</td><td>null</td><td>null</td><td>null</td><td>null</td><td>null</td><td>null</td><td>null</td><td>null</td><td>null</td><td>null</td><td>null</td><td>null</td></tr><tr><td>5.950147e6</td><td>16.862064</td><td>-99.882687</td><td>39300.0</td><td>&quot;wilfrido massi…</td><td>&quot;col magallanes…</td><td>&quot;COLISION Y/O V…</td><td>&quot;Auto&quot;</td><td>&quot;AZUL&quot;</td><td>2019.0</td><td>1</td><td>&quot;Cofre&quot;</td><td>2020</td><td>10</td><td>2</td><td>&quot;VIERNES&quot;</td><td>18</td><td>&quot;GUERRERO&quot;</td><td>&quot;ACAPULCO DE JU…</td><td>0</td><td>null</td><td>0.0</td><td>null</td><td>null</td><td>&quot;NO&quot;</td><td>null</td><td>null</td><td>null</td><td>null</td><td>null</td><td>null</td><td>null</td><td>null</td><td>null</td><td>null</td><td>null</td><td>null</td><td>null</td><td>null</td><td>null</td><td>null</td><td>null</td><td>null</td><td>null</td></tr></tbody></table></div>"
      ],
      "text/plain": [
       "shape: (5, 44)\n",
       "┌────────────┬───────────┬────────────┬───────────┬───┬───────────┬───────────┬───────────┬────────┐\n",
       "│ siniestro  ┆ latitud   ┆ longitud   ┆ codigo_po ┆ … ┆ bicicleta ┆ asegurado ┆ servicio_ ┆ animal │\n",
       "│ ---        ┆ ---       ┆ ---        ┆ stal      ┆   ┆ ---       ┆ ra        ┆ taxi      ┆ ---    │\n",
       "│ f64        ┆ f64       ┆ f64        ┆ ---       ┆   ┆ f64       ┆ ---       ┆ ---       ┆ f64    │\n",
       "│            ┆           ┆            ┆ f64       ┆   ┆           ┆ f64       ┆ f64       ┆        │\n",
       "╞════════════╪═══════════╪════════════╪═══════════╪═══╪═══════════╪═══════════╪═══════════╪════════╡\n",
       "│ 5.948953e6 ┆ 17.536272 ┆ -99.496947 ┆ 39095.0   ┆ … ┆ null      ┆ null      ┆ null      ┆ null   │\n",
       "│ 5.947275e6 ┆ 16.862052 ┆ -99.896002 ┆ 39300.0   ┆ … ┆ null      ┆ null      ┆ null      ┆ null   │\n",
       "│ 5.941145e6 ┆ 16.844717 ┆ -99.848868 ┆ 39300.0   ┆ … ┆ null      ┆ null      ┆ null      ┆ null   │\n",
       "│ 5.949668e6 ┆ 17.517569 ┆ -99.476248 ┆ 39095.0   ┆ … ┆ null      ┆ null      ┆ null      ┆ null   │\n",
       "│ 5.950147e6 ┆ 16.862064 ┆ -99.882687 ┆ 39300.0   ┆ … ┆ null      ┆ null      ┆ null      ┆ null   │\n",
       "└────────────┴───────────┴────────────┴───────────┴───┴───────────┴───────────┴───────────┴────────┘"
      ]
     },
     "execution_count": 23,
     "metadata": {},
     "output_type": "execute_result"
    }
   ],
   "source": [
    "pl_df.head()"
   ]
  },
  {
   "cell_type": "code",
   "execution_count": 24,
   "metadata": {},
   "outputs": [],
   "source": [
    "filtered_df = pl_df.filter(\n",
    "    pl.col(\"estado\").str.contains_any(['ciudad', 'Ciudad', 'CIUDAD']),\n",
    "    pl.col(\"nivel_dano_vehiculo\") > 0\n",
    ")"
   ]
  },
  {
   "cell_type": "code",
   "execution_count": 25,
   "metadata": {},
   "outputs": [],
   "source": [
    "#creating a clean and translated csv for future use\n",
    "\n",
    "filtered_df.write_csv(\"cdmx_data.csv\", separator=\",\")"
   ]
  },
  {
   "cell_type": "code",
   "execution_count": 36,
   "metadata": {},
   "outputs": [
    {
     "data": {
      "image/png": "[encoded data removed]",
      "text/plain": [
       "<Figure size 1000x600 with 1 Axes>"
      ]
     },
     "metadata": {},
     "output_type": "display_data"
    }
   ],
   "source": [
    "#quick visualization of crashes subset by driver gender\n",
    "\n",
    "import matplotlib.pyplot as plt\n",
    "import seaborn as sns\n",
    "\n",
    "df = filtered_df.to_pandas()\n",
    "\n",
    "grouped_df = df.groupby(['ano', 'genero_lesionado']).size().reset_index(name='counts')\n",
    "\n",
    "plt.figure(figsize=(10, 6))\n",
    "sns.barplot(x='ano', y='counts', hue='genero_lesionado', data=grouped_df, dodge = True)\n",
    "\n",
    "plt.title('Number of Crashes; Subset by Gender of Driver')\n",
    "plt.xlabel('Year')\n",
    "plt.ylabel('Count')\n",
    "plt.show()"
   ]
  }
 ],
 "metadata": {
  "kernelspec": {
   "display_name": "Python 3",
   "language": "python",
   "name": "python3"
  },
  "language_info": {
   "codemirror_mode": {
    "name": "ipython",
    "version": 3
   },
   "file_extension": ".py",
   "mimetype": "text/x-python",
   "name": "python",
   "nbconvert_exporter": "python",
   "pygments_lexer": "ipython3",
   "version": "3.11.8"
  }
 },
 "nbformat": 4,
 "nbformat_minor": 2
}
